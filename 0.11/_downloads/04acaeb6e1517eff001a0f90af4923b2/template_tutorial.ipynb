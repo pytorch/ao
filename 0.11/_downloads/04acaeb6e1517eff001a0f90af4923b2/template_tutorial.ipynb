{
  "cells": [
    {
      "cell_type": "markdown",
      "metadata": {},
      "source": [
        "\n# Template Tutorial\n\n**Author:** [FirstName LastName](https://github.com/username)\n\n**What you will learn**\n\n* Item 1\n* Item 2\n* Item 3\n\n**Prerequisites**\n\n* PyTorch v2.0.0\n* GPU ???\n* Other items 3\n"
      ]
    },
    {
      "cell_type": "markdown",
      "metadata": {},
      "source": [
        "## Overview\n\nDescribe Why is this topic important? Add Links to relevant research papers.\n\nThis tutorial walks you through the process of....\n\n## Steps\n\nExample code (the output below is generated automatically):\n\n\n"
      ]
    },
    {
      "cell_type": "code",
      "execution_count": null,
      "metadata": {
        "collapsed": false
      },
      "outputs": [],
      "source": [
        "import torch\n\nx = torch.rand(5, 3)\nprint(x)"
      ]
    },
    {
      "cell_type": "markdown",
      "metadata": {},
      "source": [
        "## (Optional) Additional Exercises\n\nAdd additional practice exercises for users to test their knowledge.\nExample: [NLP from Scratch](https://pytorch.org/tutorials/intermediate/char_rnn_generation_tutorial.html#exercises)_.\n\n\n"
      ]
    },
    {
      "cell_type": "markdown",
      "metadata": {},
      "source": [
        "## Conclusion\n\nSummarize the steps and concepts covered. Highlight key takeaways.\n\n## Further Reading\n\n* Link1\n* Link2\n\n"
      ]
    }
  ],
  "metadata": {
    "kernelspec": {
      "display_name": "Python 3",
      "language": "python",
      "name": "python3"
    },
    "language_info": {
      "codemirror_mode": {
        "name": "ipython",
        "version": 3
      },
      "file_extension": ".py",
      "mimetype": "text/x-python",
      "name": "python",
      "nbconvert_exporter": "python",
      "pygments_lexer": "ipython3",
      "version": "3.11.11"
    }
  },
  "nbformat": 4,
  "nbformat_minor": 0
}